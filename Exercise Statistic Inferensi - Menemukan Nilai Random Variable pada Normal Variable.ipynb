{
 "cells": [
  {
   "cell_type": "markdown",
   "id": "d052abc4",
   "metadata": {},
   "source": [
    "## Menemukan Nilai Random Variable pada Normal Variable"
   ]
  },
  {
   "cell_type": "markdown",
   "id": "434f601c",
   "metadata": {},
   "source": [
    "#### Channel Indonesia Belajar\n",
    "Adopted from 'Elementary Statistics - Picturing the World' 6th Edition"
   ]
  },
  {
   "cell_type": "markdown",
   "id": "2f033834",
   "metadata": {},
   "source": [
    "### Finding a Spesific Data Value"
   ]
  },
  {
   "cell_type": "markdown",
   "id": "8165d125",
   "metadata": {},
   "source": [
    "1. In a randomly selected sample of women ages 20-34, the mean total cholesterol level is 181 milligrams per deciliter with a standard deviation of 37.6 milligras per deciliter.\n",
    "2. Assume the total cholesterol levels are normally distributed\n",
    "3. Find the highest total cholesterol level a woman in this 20-34 age group can have and still be in the bottom 1%"
   ]
  },
  {
   "cell_type": "markdown",
   "id": "89f78255",
   "metadata": {},
   "source": [
    "### Finding a Spesific Data Value [Solution]"
   ]
  },
  {
   "cell_type": "markdown",
   "id": "1b3a728b",
   "metadata": {},
   "source": [
    "1. A total cholesterol level in the lowest 1% is any level below the 1st percentile\n",
    "2. To find the level that represent the 1st percentile, we must first find the z-score that corresponds to a cumulative area of 0.01.\n",
    "3. In the Standard Normal Table, the z-score that corresponds to an area of 0.01 is z = -2.33.\n",
    "4. To find the x-value, note that U = 181 and D = 37.6, and use the formula x = U + z x D = 181 + (-2.33) x 37.6 = 93.39\n",
    "5. Using Scipy"
   ]
  },
  {
   "cell_type": "code",
   "execution_count": 3,
   "id": "b696637a",
   "metadata": {},
   "outputs": [
    {
     "name": "stdout",
     "output_type": "stream",
     "text": [
      "z-score: -2.3263478740408408 \t x: 93.52931993606438\n"
     ]
    }
   ],
   "source": [
    "from scipy import stats\n",
    "mu = 181\n",
    "sigma = 37.6\n",
    "p = 1/100\n",
    "z_score = stats.norm.ppf(p)\n",
    "x = mu + z_score * sigma\n",
    "print(f'z-score: {z_score} \\t x: {x}')"
   ]
  },
  {
   "cell_type": "code",
   "execution_count": 4,
   "id": "9d8792ca",
   "metadata": {},
   "outputs": [
    {
     "data": {
      "image/png": "[encoded data removed]",
      "text/plain": [
       "<Figure size 432x288 with 1 Axes>"
      ]
     },
     "metadata": {
      "needs_background": "light"
     },
     "output_type": "display_data"
    }
   ],
   "source": [
    "from scipy import stats\n",
    "import numpy as np\n",
    "import matplotlib.pyplot as plt\n",
    "def draw_z_score(x, cond, mu=0, sigma=1):\n",
    "    y = stats.norm.pdf(x, mu, sigma)\n",
    "    z = x[cond]\n",
    "    plt.plot(x,y)\n",
    "    plt.fill_between(z, 0, stats.norm.pdf(z,mu,sigma))\n",
    "    plt.show()\n",
    "    \n",
    "x = np.arange(-3,3,0.001)\n",
    "draw_z_score(x,x<z_score)"
   ]
  },
  {
   "cell_type": "markdown",
   "id": "835d249f",
   "metadata": {},
   "source": [
    "#### Interpretation\n",
    "The value that seperates the lowers 1% of total cholesterol levels for women in the 20-34 age group from highest 99% is about 93 miligram per deciliter"
   ]
  },
  {
   "cell_type": "markdown",
   "id": "ddd4ccfe",
   "metadata": {},
   "source": [
    "## Mengenal Confidence Interval"
   ]
  },
  {
   "cell_type": "markdown",
   "id": "b40f4425",
   "metadata": {},
   "source": [
    "#### Confidence Intervals for the Mean (σ known)\n",
    "#### a. Estimating Population Parameters"
   ]
  },
  {
   "cell_type": "markdown",
   "id": "6f1bff1d",
   "metadata": {},
   "source": [
    "* In this chapter, we will learn an immportant technique of statistical inference-to use sample statistics to estimate the value of an unknown population parameter.\n",
    "* In this and the next, we will learn how to use sample statistics to make an estimate of the population parameter μ when the population standard deviation σ is known (this section) or when σ is unknown\n",
    "* To make such an inference, begin by finding a *point estimate*"
   ]
  },
  {
   "cell_type": "markdown",
   "id": "4cdaa032",
   "metadata": {},
   "source": [
    "* A point estimate is a single value estimate for a population parameter.\n",
    "* The most unbiased point estimate of the population mean μ is the sample mean x.\n",
    "* The validity of an estimation method is increased when you use a sample statistic that is unbiased and has low variability\n",
    "* A sample statistic is unbiased if it does not overestimate or underestimate the population paramater."
   ]
  },
  {
   "cell_type": "markdown",
   "id": "0c112350",
   "metadata": {},
   "source": [
    "#### Finding a Point Estimate [example 1]\n",
    "* An economics researcher is collecting data about grocery store employees in a country\n",
    "* The data listed below represent a random sample of the number of hours worked by 40 employees from several grocery in the country.\n",
    "* Find a point estimate of the population mean μ."
   ]
  },
  {
   "cell_type": "code",
   "execution_count": null,
   "id": "aa91092f",
   "metadata": {},
   "outputs": [],
   "source": []
  }
 ],
 "metadata": {
  "kernelspec": {
   "display_name": "Python 3 (ipykernel)",
   "language": "python",
   "name": "python3"
  },
  "language_info": {
   "codemirror_mode": {
    "name": "ipython",
    "version": 3
   },
   "file_extension": ".py",
   "mimetype": "text/x-python",
   "name": "python",
   "nbconvert_exporter": "python",
   "pygments_lexer": "ipython3",
   "version": "3.9.7"
  }
 },
 "nbformat": 4,
 "nbformat_minor": 5
}
