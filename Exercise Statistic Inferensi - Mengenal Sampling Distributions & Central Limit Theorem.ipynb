{
 "cells": [
  {
   "cell_type": "markdown",
   "id": "032bcc8a",
   "metadata": {},
   "source": [
    "## Mengenal Sampling Distributions & Central Limit Theorem"
   ]
  },
  {
   "cell_type": "markdown",
   "id": "cec84747",
   "metadata": {},
   "source": [
    "#### Sampling Distributions\n",
    "1. In this section, we will study the relationshop between a population mean and the means of samples taken from the population\n",
    "2. A sampling distribution is the probability distribution of a sample statistic that is formed when samples of size n are repeatedly taken from a population.\n",
    "3. If the sample statistic is the sample mean, then the distribution is the sampling distribution of sample means\n",
    "4. Every sample statistic has a sampling distribution"
   ]
  },
  {
   "cell_type": "markdown",
   "id": "4c6bb418",
   "metadata": {},
   "source": [
    "#### Properties of Sampling Distributions of Sample Means"
   ]
  },
  {
   "cell_type": "markdown",
   "id": "48457ff1",
   "metadata": {},
   "source": [
    "1. The mean of the sample means μx is equal to the population mean μ. μx = μ\n",
    "2. The standard deviation of the sample means σx is equal to the population standard deviation σ devided by the square root of the sample size n.\n",
    "σx = σ / √n \n",
    "\n",
    "The standard deviation of the sampling distribution of the sample means is calle the standard error of the mean.\n"
   ]
  },
  {
   "cell_type": "markdown",
   "id": "600203c0",
   "metadata": {},
   "source": [
    "#### A Sampling Distribution of Sample Means [Example 1]"
   ]
  },
  {
   "cell_type": "markdown",
   "id": "793ad6f3",
   "metadata": {},
   "source": [
    "1. You write the population values {1,3,5,7} on slips of paper and put them in a box.\n",
    "2. Then you randomly choose two slips of paper, with replacement.\n",
    "3. List all possible samples of size n = 2 and calculate the mean of each.\n",
    "4. These means form the sampling distribution of the sample means.\n",
    "5. Find the meean, variance, and standard deviation of the sample means.\n",
    "6. Compare your results with the mean μ = 4, variance σ2 = 5, and standard deviation σ = 2.23 of the population"
   ]
  },
  {
   "cell_type": "markdown",
   "id": "971e8fe3",
   "metadata": {},
   "source": [
    "#### A Sampling Distribution of Sample Means [Solution]"
   ]
  },
  {
   "cell_type": "markdown",
   "id": "e0838b67",
   "metadata": {},
   "source": [
    "1. List all 16 samples of size 2 from the population and the mean of each sample.\n",
    "2. After construction a probability distribution of the sample means, we can graph the sampling distribution using a probability histogram\n",
    "3. Notice that the shape of the histogram is bell-shaped and symmetric, similiar to a normal curve.\n",
    "\n",
    "The mean, variance, and standard deviation of the 16 means are:\n",
    "\n",
    "1. μx = 4\n",
    "2. (σ)2 = 5/2 = 2.5\n",
    "3. σx = √2.5 = 1.581\n",
    "\n",
    "These results satisfy the properties of sampling distributions because:\n",
    "\n",
    "1. μx = μ = 4\n",
    "2. σx = σ / √n = √5 / √2 = 1.581"
   ]
  },
  {
   "cell_type": "markdown",
   "id": "3a615528",
   "metadata": {},
   "source": [
    "#### The Central Limit Theorem"
   ]
  },
  {
   "cell_type": "markdown",
   "id": "6d158fc8",
   "metadata": {},
   "source": [
    "1. The Central Limit Theorem forms the foundation for the inferential branch of statistics\n",
    "2. This theorem describes the relationship between the sampling distribution of sample means and the population that the samples are taken from.\n",
    "3. The Cental Limit Theorem is an important tool that provides the information you will need to use sample statistics to make infertences about population mean."
   ]
  },
  {
   "cell_type": "markdown",
   "id": "6206857a",
   "metadata": {},
   "source": [
    "#### The Central Limit Theorem\n",
    "1. The samples of size n, where n > 30, are drawn from any population with a mean μ and a standard deviation σ, then the sampling distribution of sample means approximates a normal distribution. The grater the sample size, the better the approximation.\n",
    "2. If the population itself is normally distributed, then the sampling distribution of sample means is normally distributed for any sample size n.\n",
    "\n",
    "In either case, the sampling distribution of sample means has a mean equal to the population mean.\n",
    "\n",
    "μx = μ\n",
    "\n",
    "and a standard deviation equal to the population standard deviation devided by the square root of n.\n",
    "\n",
    "σx = σx / √n\n",
    "\n",
    "3. The distribution of sample means has the same mean as the population.\n",
    "4. But its standard deviation is less than the standard deviation of the population.\n",
    "5. This tell you that the distribution of sample means has the same center as the population, but it is not as spread out.\n",
    "6. The distribuion of sample means becomes less and less spread out (tighter concentration about the mean) as the sample size n increases."
   ]
  },
  {
   "cell_type": "markdown",
   "id": "ecbc1a45",
   "metadata": {},
   "source": [
    "#### Interpreting the Central Limit Theorem [example 2]\n",
    "1. Cell phone bills for residents of a city have a mean of $47$ and a standard deviation of $9$, as shown in the figure\n",
    "2. Random samples of 100 cell phone bills are drawn from this populations, and the mean of each sample is determined.\n",
    "3. Find the mean and standard deviation of sampling distribution of sample means.\n",
    "4. Then skecth a graph of the sampling distribution\n",
    "5. The mean of the sampling distribution is equal to population mean,\n",
    "6. Mean of the sample means *: μx = μ = 47*\n",
    "7. And the standard deviation of the sample means is equal to the population standard deviation devided by √n\n",
    "8. Standard deviation of the sample means *: σx = σ / √n  = 9 / √100 = 0.9*"
   ]
  },
  {
   "cell_type": "markdown",
   "id": "0b6447f5",
   "metadata": {},
   "source": [
    "#### Interpretation\n",
    "Because the sample size is greater than 30, the sampling distribution can be approximated by a normal distribution with a mean of $ 47 $  and a standard deviation of $ 0.9, as shown in the figure"
   ]
  },
  {
   "cell_type": "markdown",
   "id": "ce10b412",
   "metadata": {},
   "source": [
    "#### Interpreting the Central Limit Theorem [example 3]\n",
    "1. Assume the training heart rate of all 20-year-old athletes are normally distributed, with a mean of 135 beats per minute and a standard deviation of 18 beats per minute, as shown in the figure.\n",
    "2. Random samples of size 4 are drawn from this population, and the mean of each sample is determined.\n",
    "3. Find the mean and standard deviation of the sampling distribution of sample means.\n",
    "4. Then sketch a graph of the sampling distribution"
   ]
  },
  {
   "cell_type": "markdown",
   "id": "4ca593f0",
   "metadata": {},
   "source": [
    "#### - Mean of the sample means: μx = μ = 135 beats per minute\n",
    "#### - Standard deviation of the sample means: σx = σ / √n = 18 / √4 = 9 beats per minute\n"
   ]
  },
  {
   "cell_type": "markdown",
   "id": "4c0d51d6",
   "metadata": {},
   "source": [
    "#### Intepretation\n",
    "From the Central Limit Theorem, because the population is normally distributred, the sampling distribution of the sample means is also normally distributed, as shown in the figure."
   ]
  },
  {
   "cell_type": "markdown",
   "id": "defdcc05",
   "metadata": {},
   "source": [
    "#### Probability and the Central Limit Theorem\n",
    "1. We can find the probability that a sample mean x will lie in a given interval of the x sampling distibution.\n",
    "2. To transform x to z-score, you can use the formula: z = (x-μx)/σx = (x-μ)/σ/√n"
   ]
  },
  {
   "cell_type": "markdown",
   "id": "a2046069",
   "metadata": {},
   "source": [
    "#### Finding Probabilities for Sampling Distributions\n",
    "1. The figure below shows the lengths of time people spend driving each day.\n",
    "2. You randomly select 50 drivers ages 15 to 19\n",
    "3. What is the probability that the mean time they spend driving each day is between 24.7 and 25.5 minutes?\n",
    "4. Assume that σ = 1.5 minutes.\n",
    "5. The sample size is greater that 30, so you can use the Central Limit Theorem to conclude that the distribution of sample means is approximately normal, with a mean and a standard deviation of:\n",
    "a. μx = μ = 25 minutes\n",
    "b. σx = σ/√n = 1.5/√50 = 0.21213 minutes\n",
    "6. The graph of this distribution is shown below with a shaded area between 24.7 and 25.5 minutes.\n",
    "7. The z-scores that correspond to sample means 24.7 and 25.5 minutes are foung as shown :\n",
    "\n",
    "a. z1 = (24.7-25)/1.5/√50 = -1.41\n",
    "\n",
    "b. z2 = (25.5-25)/1.5/√50 = 2.36\n",
    "\n",
    "8. The probability that the mean time the 50 people spend driving each day is between 24.7 and 25.5 minutes is:\n",
    "\n",
    "P(24.7 < x < 25.5) = P(-1.41<z<2.36)\n",
    "                  \n",
    "                   = P(z<2.36) - P(z<-1.41_\n",
    "                  \n",
    "                   = 0.9909 - 0.0793\n",
    "                  \n",
    "                   = 0.9116"
   ]
  },
  {
   "cell_type": "code",
   "execution_count": 8,
   "id": "736dbab1",
   "metadata": {},
   "outputs": [
    {
     "name": "stdout",
     "output_type": "stream",
     "text": [
      "z1: -1.4142135623730985\n",
      "z2: 2.3570226039551585\n",
      "p: 0.9121393337478084\n"
     ]
    }
   ],
   "source": [
    "from scipy import stats\n",
    "import math\n",
    "mu = 25\n",
    "n = 50\n",
    "sigma = 1.5\n",
    "x1, x2 = 24.7, 25.5\n",
    "\n",
    "z1 = (x1-mu) / (sigma/math.sqrt(n))\n",
    "z2 = (x2-mu) / (sigma/math.sqrt(n))\n",
    "print(f'z1: {z1}')\n",
    "print(f'z2: {z2}')\n",
    "      \n",
    "p = stats.norm.cdf(z2) - stats.norm.cdf(z1)\n",
    "print(f'p: {p}')"
   ]
  },
  {
   "cell_type": "code",
   "execution_count": 14,
   "id": "b2cdfcdb",
   "metadata": {},
   "outputs": [
    {
     "ename": "ValueError",
     "evalue": "x and y must have same first dimension, but have shapes (3772,) and (6000,)",
     "output_type": "error",
     "traceback": [
      "\u001b[1;31m---------------------------------------------------------------------------\u001b[0m",
      "\u001b[1;31mValueError\u001b[0m                                Traceback (most recent call last)",
      "\u001b[1;32m~\\AppData\\Local\\Temp/ipykernel_6164/2356377306.py\u001b[0m in \u001b[0;36m<module>\u001b[1;34m\u001b[0m\n\u001b[0;32m     11\u001b[0m \u001b[1;33m\u001b[0m\u001b[0m\n\u001b[0;32m     12\u001b[0m \u001b[0mx\u001b[0m \u001b[1;33m=\u001b[0m \u001b[0mnp\u001b[0m\u001b[1;33m.\u001b[0m\u001b[0marange\u001b[0m\u001b[1;33m(\u001b[0m\u001b[1;33m-\u001b[0m\u001b[1;36m3\u001b[0m\u001b[1;33m,\u001b[0m\u001b[1;36m3\u001b[0m\u001b[1;33m,\u001b[0m\u001b[1;36m0.001\u001b[0m\u001b[1;33m)\u001b[0m\u001b[1;33m\u001b[0m\u001b[1;33m\u001b[0m\u001b[0m\n\u001b[1;32m---> 13\u001b[1;33m \u001b[0mdraw_z_score\u001b[0m\u001b[1;33m(\u001b[0m\u001b[0mx\u001b[0m\u001b[1;33m,\u001b[0m \u001b[1;33m(\u001b[0m\u001b[0mz1\u001b[0m\u001b[1;33m<\u001b[0m\u001b[0mx\u001b[0m\u001b[1;33m)\u001b[0m \u001b[1;33m&\u001b[0m \u001b[1;33m(\u001b[0m\u001b[0mx\u001b[0m\u001b[1;33m<\u001b[0m\u001b[0mz2\u001b[0m\u001b[1;33m)\u001b[0m\u001b[1;33m)\u001b[0m\u001b[1;33m\u001b[0m\u001b[1;33m\u001b[0m\u001b[0m\n\u001b[0m",
      "\u001b[1;32m~\\AppData\\Local\\Temp/ipykernel_6164/2356377306.py\u001b[0m in \u001b[0;36mdraw_z_score\u001b[1;34m(x, cond, mu, sigma)\u001b[0m\n\u001b[0;32m      6\u001b[0m     \u001b[0my\u001b[0m \u001b[1;33m=\u001b[0m \u001b[0mstats\u001b[0m\u001b[1;33m.\u001b[0m\u001b[0mnorm\u001b[0m\u001b[1;33m.\u001b[0m\u001b[0mpdf\u001b[0m\u001b[1;33m(\u001b[0m\u001b[0mx\u001b[0m\u001b[1;33m,\u001b[0m\u001b[0mmu\u001b[0m\u001b[1;33m,\u001b[0m\u001b[0msigma\u001b[0m\u001b[1;33m)\u001b[0m\u001b[1;33m\u001b[0m\u001b[1;33m\u001b[0m\u001b[0m\n\u001b[0;32m      7\u001b[0m     \u001b[0mx\u001b[0m \u001b[1;33m=\u001b[0m \u001b[0mx\u001b[0m\u001b[1;33m[\u001b[0m\u001b[0mcond\u001b[0m\u001b[1;33m]\u001b[0m\u001b[1;33m\u001b[0m\u001b[1;33m\u001b[0m\u001b[0m\n\u001b[1;32m----> 8\u001b[1;33m     \u001b[0mplt\u001b[0m\u001b[1;33m.\u001b[0m\u001b[0mplot\u001b[0m\u001b[1;33m(\u001b[0m\u001b[0mx\u001b[0m\u001b[1;33m,\u001b[0m \u001b[0my\u001b[0m\u001b[1;33m)\u001b[0m\u001b[1;33m\u001b[0m\u001b[1;33m\u001b[0m\u001b[0m\n\u001b[0m\u001b[0;32m      9\u001b[0m     \u001b[0mplt\u001b[0m\u001b[1;33m.\u001b[0m\u001b[0mfill_between\u001b[0m\u001b[1;33m(\u001b[0m\u001b[0mz\u001b[0m\u001b[1;33m,\u001b[0m \u001b[1;36m0\u001b[0m \u001b[1;33m,\u001b[0m \u001b[0mstats\u001b[0m\u001b[1;33m.\u001b[0m\u001b[0mnorm\u001b[0m\u001b[1;33m.\u001b[0m\u001b[0mpdf\u001b[0m\u001b[1;33m(\u001b[0m\u001b[0mz\u001b[0m\u001b[1;33m,\u001b[0m\u001b[0mmu\u001b[0m\u001b[1;33m,\u001b[0m\u001b[0msigma\u001b[0m\u001b[1;33m)\u001b[0m\u001b[1;33m)\u001b[0m\u001b[1;33m\u001b[0m\u001b[1;33m\u001b[0m\u001b[0m\n\u001b[0;32m     10\u001b[0m     \u001b[0mplt\u001b[0m\u001b[1;33m.\u001b[0m\u001b[0mshow\u001b[0m\u001b[1;33m(\u001b[0m\u001b[1;33m)\u001b[0m\u001b[1;33m\u001b[0m\u001b[1;33m\u001b[0m\u001b[0m\n",
      "\u001b[1;32m~\\anaconda3\\lib\\site-packages\\matplotlib\\pyplot.py\u001b[0m in \u001b[0;36mplot\u001b[1;34m(scalex, scaley, data, *args, **kwargs)\u001b[0m\n\u001b[0;32m   3017\u001b[0m \u001b[1;33m@\u001b[0m\u001b[0m_copy_docstring_and_deprecators\u001b[0m\u001b[1;33m(\u001b[0m\u001b[0mAxes\u001b[0m\u001b[1;33m.\u001b[0m\u001b[0mplot\u001b[0m\u001b[1;33m)\u001b[0m\u001b[1;33m\u001b[0m\u001b[1;33m\u001b[0m\u001b[0m\n\u001b[0;32m   3018\u001b[0m \u001b[1;32mdef\u001b[0m \u001b[0mplot\u001b[0m\u001b[1;33m(\u001b[0m\u001b[1;33m*\u001b[0m\u001b[0margs\u001b[0m\u001b[1;33m,\u001b[0m \u001b[0mscalex\u001b[0m\u001b[1;33m=\u001b[0m\u001b[1;32mTrue\u001b[0m\u001b[1;33m,\u001b[0m \u001b[0mscaley\u001b[0m\u001b[1;33m=\u001b[0m\u001b[1;32mTrue\u001b[0m\u001b[1;33m,\u001b[0m \u001b[0mdata\u001b[0m\u001b[1;33m=\u001b[0m\u001b[1;32mNone\u001b[0m\u001b[1;33m,\u001b[0m \u001b[1;33m**\u001b[0m\u001b[0mkwargs\u001b[0m\u001b[1;33m)\u001b[0m\u001b[1;33m:\u001b[0m\u001b[1;33m\u001b[0m\u001b[1;33m\u001b[0m\u001b[0m\n\u001b[1;32m-> 3019\u001b[1;33m     return gca().plot(\n\u001b[0m\u001b[0;32m   3020\u001b[0m         \u001b[1;33m*\u001b[0m\u001b[0margs\u001b[0m\u001b[1;33m,\u001b[0m \u001b[0mscalex\u001b[0m\u001b[1;33m=\u001b[0m\u001b[0mscalex\u001b[0m\u001b[1;33m,\u001b[0m \u001b[0mscaley\u001b[0m\u001b[1;33m=\u001b[0m\u001b[0mscaley\u001b[0m\u001b[1;33m,\u001b[0m\u001b[1;33m\u001b[0m\u001b[1;33m\u001b[0m\u001b[0m\n\u001b[0;32m   3021\u001b[0m         **({\"data\": data} if data is not None else {}), **kwargs)\n",
      "\u001b[1;32m~\\anaconda3\\lib\\site-packages\\matplotlib\\axes\\_axes.py\u001b[0m in \u001b[0;36mplot\u001b[1;34m(self, scalex, scaley, data, *args, **kwargs)\u001b[0m\n\u001b[0;32m   1603\u001b[0m         \"\"\"\n\u001b[0;32m   1604\u001b[0m         \u001b[0mkwargs\u001b[0m \u001b[1;33m=\u001b[0m \u001b[0mcbook\u001b[0m\u001b[1;33m.\u001b[0m\u001b[0mnormalize_kwargs\u001b[0m\u001b[1;33m(\u001b[0m\u001b[0mkwargs\u001b[0m\u001b[1;33m,\u001b[0m \u001b[0mmlines\u001b[0m\u001b[1;33m.\u001b[0m\u001b[0mLine2D\u001b[0m\u001b[1;33m)\u001b[0m\u001b[1;33m\u001b[0m\u001b[1;33m\u001b[0m\u001b[0m\n\u001b[1;32m-> 1605\u001b[1;33m         \u001b[0mlines\u001b[0m \u001b[1;33m=\u001b[0m \u001b[1;33m[\u001b[0m\u001b[1;33m*\u001b[0m\u001b[0mself\u001b[0m\u001b[1;33m.\u001b[0m\u001b[0m_get_lines\u001b[0m\u001b[1;33m(\u001b[0m\u001b[1;33m*\u001b[0m\u001b[0margs\u001b[0m\u001b[1;33m,\u001b[0m \u001b[0mdata\u001b[0m\u001b[1;33m=\u001b[0m\u001b[0mdata\u001b[0m\u001b[1;33m,\u001b[0m \u001b[1;33m**\u001b[0m\u001b[0mkwargs\u001b[0m\u001b[1;33m)\u001b[0m\u001b[1;33m]\u001b[0m\u001b[1;33m\u001b[0m\u001b[1;33m\u001b[0m\u001b[0m\n\u001b[0m\u001b[0;32m   1606\u001b[0m         \u001b[1;32mfor\u001b[0m \u001b[0mline\u001b[0m \u001b[1;32min\u001b[0m \u001b[0mlines\u001b[0m\u001b[1;33m:\u001b[0m\u001b[1;33m\u001b[0m\u001b[1;33m\u001b[0m\u001b[0m\n\u001b[0;32m   1607\u001b[0m             \u001b[0mself\u001b[0m\u001b[1;33m.\u001b[0m\u001b[0madd_line\u001b[0m\u001b[1;33m(\u001b[0m\u001b[0mline\u001b[0m\u001b[1;33m)\u001b[0m\u001b[1;33m\u001b[0m\u001b[1;33m\u001b[0m\u001b[0m\n",
      "\u001b[1;32m~\\anaconda3\\lib\\site-packages\\matplotlib\\axes\\_base.py\u001b[0m in \u001b[0;36m__call__\u001b[1;34m(self, data, *args, **kwargs)\u001b[0m\n\u001b[0;32m    313\u001b[0m                 \u001b[0mthis\u001b[0m \u001b[1;33m+=\u001b[0m \u001b[0margs\u001b[0m\u001b[1;33m[\u001b[0m\u001b[1;36m0\u001b[0m\u001b[1;33m]\u001b[0m\u001b[1;33m,\u001b[0m\u001b[1;33m\u001b[0m\u001b[1;33m\u001b[0m\u001b[0m\n\u001b[0;32m    314\u001b[0m                 \u001b[0margs\u001b[0m \u001b[1;33m=\u001b[0m \u001b[0margs\u001b[0m\u001b[1;33m[\u001b[0m\u001b[1;36m1\u001b[0m\u001b[1;33m:\u001b[0m\u001b[1;33m]\u001b[0m\u001b[1;33m\u001b[0m\u001b[1;33m\u001b[0m\u001b[0m\n\u001b[1;32m--> 315\u001b[1;33m             \u001b[1;32myield\u001b[0m \u001b[1;32mfrom\u001b[0m \u001b[0mself\u001b[0m\u001b[1;33m.\u001b[0m\u001b[0m_plot_args\u001b[0m\u001b[1;33m(\u001b[0m\u001b[0mthis\u001b[0m\u001b[1;33m,\u001b[0m \u001b[0mkwargs\u001b[0m\u001b[1;33m)\u001b[0m\u001b[1;33m\u001b[0m\u001b[1;33m\u001b[0m\u001b[0m\n\u001b[0m\u001b[0;32m    316\u001b[0m \u001b[1;33m\u001b[0m\u001b[0m\n\u001b[0;32m    317\u001b[0m     \u001b[1;32mdef\u001b[0m \u001b[0mget_next_color\u001b[0m\u001b[1;33m(\u001b[0m\u001b[0mself\u001b[0m\u001b[1;33m)\u001b[0m\u001b[1;33m:\u001b[0m\u001b[1;33m\u001b[0m\u001b[1;33m\u001b[0m\u001b[0m\n",
      "\u001b[1;32m~\\anaconda3\\lib\\site-packages\\matplotlib\\axes\\_base.py\u001b[0m in \u001b[0;36m_plot_args\u001b[1;34m(self, tup, kwargs, return_kwargs)\u001b[0m\n\u001b[0;32m    499\u001b[0m \u001b[1;33m\u001b[0m\u001b[0m\n\u001b[0;32m    500\u001b[0m         \u001b[1;32mif\u001b[0m \u001b[0mx\u001b[0m\u001b[1;33m.\u001b[0m\u001b[0mshape\u001b[0m\u001b[1;33m[\u001b[0m\u001b[1;36m0\u001b[0m\u001b[1;33m]\u001b[0m \u001b[1;33m!=\u001b[0m \u001b[0my\u001b[0m\u001b[1;33m.\u001b[0m\u001b[0mshape\u001b[0m\u001b[1;33m[\u001b[0m\u001b[1;36m0\u001b[0m\u001b[1;33m]\u001b[0m\u001b[1;33m:\u001b[0m\u001b[1;33m\u001b[0m\u001b[1;33m\u001b[0m\u001b[0m\n\u001b[1;32m--> 501\u001b[1;33m             raise ValueError(f\"x and y must have same first dimension, but \"\n\u001b[0m\u001b[0;32m    502\u001b[0m                              f\"have shapes {x.shape} and {y.shape}\")\n\u001b[0;32m    503\u001b[0m         \u001b[1;32mif\u001b[0m \u001b[0mx\u001b[0m\u001b[1;33m.\u001b[0m\u001b[0mndim\u001b[0m \u001b[1;33m>\u001b[0m \u001b[1;36m2\u001b[0m \u001b[1;32mor\u001b[0m \u001b[0my\u001b[0m\u001b[1;33m.\u001b[0m\u001b[0mndim\u001b[0m \u001b[1;33m>\u001b[0m \u001b[1;36m2\u001b[0m\u001b[1;33m:\u001b[0m\u001b[1;33m\u001b[0m\u001b[1;33m\u001b[0m\u001b[0m\n",
      "\u001b[1;31mValueError\u001b[0m: x and y must have same first dimension, but have shapes (3772,) and (6000,)"
     ]
    },
    {
     "data": {
      "image/png": "[encoded data removed]",
      "text/plain": [
       "<Figure size 432x288 with 1 Axes>"
      ]
     },
     "metadata": {
      "needs_background": "light"
     },
     "output_type": "display_data"
    }
   ],
   "source": [
    "from scipy import stats\n",
    "import numpy as np\n",
    "import matplotlib.pyplot as plt\n",
    "\n",
    "def draw_z_score(x, cond, mu=0, sigma=1):\n",
    "    y = stats.norm.pdf(x,mu,sigma)\n",
    "    x = x[cond]\n",
    "    plt.plot(x, y)\n",
    "    plt.fill_between(z, 0 , stats.norm.pdf(z,mu,sigma))\n",
    "    plt.show()\n",
    "    \n",
    "x = np.arange(-3,3,0.001)\n",
    "draw_z_score(x, (z1<x) & (x<z2))"
   ]
  },
  {
   "cell_type": "markdown",
   "id": "d0ec7c4d",
   "metadata": {},
   "source": [
    "#### Interpretation\n",
    "Of the samples of 50 drivers ages 15 to 19, about 91% will have a mean driving time that is between 24.7 and 25.5 minutes, as shown in the graph. This implies that assuming the value of μ = 25 is correct, about 9% of such sample means will lie outside the given interval"
   ]
  },
  {
   "cell_type": "markdown",
   "id": "aac8db5f",
   "metadata": {},
   "source": [
    "#### Finding Probabilities for Sampling Distributions [Example 5]\n",
    "1. The mean room and board expense per year at four year colleges Rp 9126.\n",
    "2. You randomly select 9 four-year colleges.\n",
    "3. What is the probability that the mean room and board is less than Rp 9400?\n",
    "4. Assume that the room and board expenses are normally distributed with a standard deviation of Rp 1500"
   ]
  },
  {
   "cell_type": "markdown",
   "id": "6443e424",
   "metadata": {},
   "source": [
    "#### Answer\n",
    "Because the population is normally distributed, you can use the Central Limit Theorem to conclude that the distribution of sample means is normally distributed, with a mean and standard deviation of:\n",
    "1. μx = μ = Rp 9126\n",
    "2. σx = σ/√n = 1500/√9 = 500\n",
    "The z-score that corresponds to Rp 9400 is\n",
    "    z = 9400 - 9126/1500/√9 = 0.55\n",
    "The probability that the mean room and board expense is less than Rp 9400 is:\n",
    "1. P(x<9400) = P(z<0.55) = 0.7088"
   ]
  },
  {
   "cell_type": "code",
   "execution_count": 16,
   "id": "ad65ef90",
   "metadata": {},
   "outputs": [
    {
     "name": "stdout",
     "output_type": "stream",
     "text": [
      "z-score: 0.548\n",
      "p: 0.7081540485826512\n"
     ]
    }
   ],
   "source": [
    "from scipy import stats\n",
    "import math\n",
    "mu = 9126\n",
    "sigma = 1500\n",
    "n = 9\n",
    "x = 9400\n",
    "\n",
    "z_score = (x-mu) / (sigma/math.sqrt(n))\n",
    "print(f'z-score: {z_score}')\n",
    "\n",
    "p = stats.norm.cdf(z_score)\n",
    "print(f'p: {p}')"
   ]
  },
  {
   "cell_type": "code",
   "execution_count": 17,
   "id": "1a10178c",
   "metadata": {},
   "outputs": [
    {
     "data": {
      "image/png": "[encoded data removed]",
      "text/plain": [
       "<Figure size 432x288 with 1 Axes>"
      ]
     },
     "metadata": {
      "needs_background": "light"
     },
     "output_type": "display_data"
    }
   ],
   "source": [
    "from scipy import stats\n",
    "import numpy as np\n",
    "import matplotlib.pyplot as plt\n",
    "\n",
    "def draw_z_score(x,cond,mu=0,sigma=1):\n",
    "    y = stats.norm.pdf(x,mu,sigma)\n",
    "    z = x[cond]\n",
    "    plt.plot(x,y)\n",
    "    plt.fill_between(z,0,stats.norm.pdf(z,mu,sigma))\n",
    "    plt.show()\n",
    "    \n",
    "x = np.arange(-3,3,0.001)\n",
    "draw_z_score(x, x<z_score)"
   ]
  },
  {
   "cell_type": "markdown",
   "id": "43911207",
   "metadata": {},
   "source": [
    "#### Interpretation\n",
    "So, about 71% of such samples with n = 9 will have a mean less than RP 9400 and about 29% of these sample means will be greater than Rp 9400"
   ]
  },
  {
   "cell_type": "markdown",
   "id": "9429823b",
   "metadata": {},
   "source": [
    "#### Finding Probabilities for x dan x bar [example 6]\n",
    "The average credit card debt carried by undergraduates is normally distributed, with a mean of Rp 3173 and a standard deviation of Rp 1120\n",
    "1. Q1 : What is the probability that a randomly selected undergraduate, who is a credit card holder, has a credit card balance less than Rp 2700?\n",
    "2. Q2 : You randomly select 25 undergraduates who are credit card holders. What is the probability that their mean credit card balance is less than Rp 2700?\n",
    "3. Q3 : Compare the probabilities from (1) and (2)"
   ]
  },
  {
   "cell_type": "markdown",
   "id": "14d5e468",
   "metadata": {},
   "source": [
    "#### Answer\n",
    "Q1. What is the probability that a randomly selected undergraduate, who is a credit card holder, has a credit card balance less than Rp 2700?\n",
    "1. In this case, we asked to find the probability associated with a certain value of the random variable x.\n",
    "2. The z-score that correspond to x = Rp 2700 is:\n",
    "    z = 2700-3137/1120 = -0.42\n",
    "3. The probability that the card holder has a balance less than RP 2700 is:\n",
    "    P(x<2700) = P(z<-0.42)=0.3372"
   ]
  },
  {
   "cell_type": "code",
   "execution_count": 18,
   "id": "a60e1ebf",
   "metadata": {},
   "outputs": [
    {
     "name": "stdout",
     "output_type": "stream",
     "text": [
      "z-score: -0.42232142857142857\n",
      "p: 0.3363952096371293\n"
     ]
    }
   ],
   "source": [
    "from scipy import stats\n",
    "import math\n",
    "mu = 3173\n",
    "sigma = 1120\n",
    "x = 2700\n",
    "\n",
    "z_score = (x-mu) / (sigma)\n",
    "print(f'z-score: {z_score}')\n",
    "\n",
    "p = stats.norm.cdf(z_score)\n",
    "print(f'p: {p}')"
   ]
  },
  {
   "cell_type": "code",
   "execution_count": 19,
   "id": "0152537a",
   "metadata": {},
   "outputs": [
    {
     "data": {
      "image/png": "[encoded data removed]",
      "text/plain": [
       "<Figure size 432x288 with 1 Axes>"
      ]
     },
     "metadata": {
      "needs_background": "light"
     },
     "output_type": "display_data"
    }
   ],
   "source": [
    "from scipy import stats\n",
    "import numpy as np\n",
    "import matplotlib.pyplot as plt\n",
    "\n",
    "def draw_z_score(x,cond,mu=0,sigma=1):\n",
    "    y = stats.norm.pdf(x,mu,sigma)\n",
    "    z = x[cond]\n",
    "    plt.plot(x,y)\n",
    "    plt.fill_between(z,0,stats.norm.pdf(z,mu,sigma))\n",
    "    plt.show()\n",
    "    \n",
    "x = np.arange(-3,3,0.001)\n",
    "draw_z_score(x, x<z_score)"
   ]
  },
  {
   "cell_type": "markdown",
   "id": "96f5b821",
   "metadata": {},
   "source": [
    "2. Q2 : You randomly select 25 undergraduates who are credit card holders. What is the probability that their mean credit card balance is less than Rp 2700?\n",
    "1. Here, you are asked to find the probability associated with a sample mean x.\n",
    "2. The z-score that corresponds to x = 2700 is:\n",
    "    z = 2700-3173/(1120/√25) = -2.11\n",
    "3. The probability that the mean credit card balanace of the 25 card holders is less than Rp 2700 is:\n",
    "    P(x<2700) = P(z < -2.11) = 0.0174"
   ]
  },
  {
   "cell_type": "code",
   "execution_count": 21,
   "id": "8cbaaef0",
   "metadata": {},
   "outputs": [
    {
     "name": "stdout",
     "output_type": "stream",
     "text": [
      "z-score: -2.111607142857143\n",
      "p: 0.017360079699138387\n"
     ]
    }
   ],
   "source": [
    "from scipy import stats\n",
    "import math\n",
    "mu = 3173\n",
    "sigma = 1120\n",
    "n =25\n",
    "x = 2700\n",
    "\n",
    "z_score = (x-mu) / (sigma/math.sqrt(n))\n",
    "print(f'z-score: {z_score}')\n",
    "\n",
    "p = stats.norm.cdf(z_score)\n",
    "print(f'p: {p}')"
   ]
  },
  {
   "cell_type": "code",
   "execution_count": 22,
   "id": "7fac0913",
   "metadata": {},
   "outputs": [
    {
     "data": {
      "image/png": "[encoded data removed]",
      "text/plain": [
       "<Figure size 432x288 with 1 Axes>"
      ]
     },
     "metadata": {
      "needs_background": "light"
     },
     "output_type": "display_data"
    }
   ],
   "source": [
    "from scipy import stats\n",
    "import numpy as np\n",
    "import matplotlib.pyplot as plt\n",
    "\n",
    "def draw_z_score(x,cond,mu=0,sigma=1):\n",
    "    y = stats.norm.pdf(x,mu,sigma)\n",
    "    z = x[cond]\n",
    "    plt.plot(x,y)\n",
    "    plt.fill_between(z,0,stats.norm.pdf(z,mu,sigma))\n",
    "    plt.show()\n",
    "    \n",
    "x = np.arange(-3,3,0.001)\n",
    "draw_z_score(x, x<z_score)"
   ]
  },
  {
   "cell_type": "markdown",
   "id": "c631cf3b",
   "metadata": {},
   "source": [
    "#### 3. Q3 : Compare the probabilities from (1) and (2)\n",
    "1. Although there is about 34% chance that an undergraduate will have a balance less than Rp 2700, there is only about 2% chance that the mean of a sample of 25 undergraduates will have a balance less than Rp 2700.\n",
    "2. Because there is only a 2% chance that the mean of a sample of 25 undergraduated will have balance less than RP 2700, this is unusual event"
   ]
  },
  {
   "cell_type": "code",
   "execution_count": null,
   "id": "baeaf3b4",
   "metadata": {},
   "outputs": [],
   "source": []
  }
 ],
 "metadata": {
  "kernelspec": {
   "display_name": "Python 3 (ipykernel)",
   "language": "python",
   "name": "python3"
  },
  "language_info": {
   "codemirror_mode": {
    "name": "ipython",
    "version": 3
   },
   "file_extension": ".py",
   "mimetype": "text/x-python",
   "name": "python",
   "nbconvert_exporter": "python",
   "pygments_lexer": "ipython3",
   "version": "3.9.7"
  }
 },
 "nbformat": 4,
 "nbformat_minor": 5
}
