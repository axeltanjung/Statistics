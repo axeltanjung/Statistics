{
 "cells": [
  {
   "cell_type": "markdown",
   "id": "cd03f30f",
   "metadata": {},
   "source": [
    "## Mengenal Normal Approximation terhadap Binomial Distributions"
   ]
  },
  {
   "cell_type": "markdown",
   "id": "ad94fcac",
   "metadata": {},
   "source": [
    "#### Approximating a Binomial Distribution\n",
    "1. If np >5 and nq > 5, then the binomial random variable x is approximately normally distributed, with:\n",
    "    a. mean: μ = np\n",
    "    b. standard deviation: σ = √npq\n",
    "2. Where n is the number of independet trials, p is the probability of success in a single trial, and q is the probability of failure in a single trial "
   ]
  },
  {
   "cell_type": "markdown",
   "id": "4fb5cfed",
   "metadata": {},
   "source": [
    "#### Approximating a Binomial Probability [Example 4]\n",
    "1. Fifty-eight percent of adults say that they never wear a helmet when riding a bicycle.\n",
    "2. You randomly select 200 adults in the United States and ask them whether they wear helmet when riding a bicycle.\n",
    "3. What is the probability that at least 120 adults will say they never wear a helmet when riding a bicycle?"
   ]
  },
  {
   "cell_type": "markdown",
   "id": "74c8f2b7",
   "metadata": {},
   "source": [
    "#### Solution\n",
    "1. Because np = 200 x 0.58 = 116 and nq = 200 x 0.42 = 84, the binomial variable x is approximaterly normally distributed, with:\n",
    "*    a. μ = np = 116\n",
    "*    b. σ = √npq = √200 x 0.58 x 0.42 = 6.98\n",
    "2. Using the continuity correction, we can rewrite the discrete probability P(x>120) as the continous probability P(x > 119.5)\n",
    "3. The z-score that correspond to 119.5 is \n",
    "*    z = (x-μ)/σ = (x-μ)/√npq = (119.5-116)/√200x0.58x0.42 = 0.5"
   ]
  },
  {
   "cell_type": "code",
   "execution_count": 1,
   "id": "a7e35b2e",
   "metadata": {},
   "outputs": [
    {
     "name": "stdout",
     "output_type": "stream",
     "text": [
      "np:115.99999999999999, nq:84.0\n",
      "P:0.3080326037466906\n"
     ]
    }
   ],
   "source": [
    "from scipy import stats\n",
    "import math\n",
    "n = 200\n",
    "p = 58/100\n",
    "q = 42/100\n",
    "np = n*p\n",
    "nq = n*q\n",
    "print(f'np:{np}, nq:{nq}')\n",
    "\n",
    "mu = np\n",
    "sigma = math.sqrt(n * p * q)\n",
    "x = 119.5\n",
    "z_score = (x-mu) /sigma\n",
    "p = 1 - stats.norm.cdf(z_score)\n",
    "print(f'P:{p}')"
   ]
  },
  {
   "cell_type": "code",
   "execution_count": 2,
   "id": "eae1609e",
   "metadata": {},
   "outputs": [
    {
     "data": {
      "image/png": "[encoded data removed]",
      "text/plain": [
       "<Figure size 432x288 with 1 Axes>"
      ]
     },
     "metadata": {
      "needs_background": "light"
     },
     "output_type": "display_data"
    }
   ],
   "source": [
    "from scipy import stats\n",
    "import numpy as np\n",
    "import matplotlib.pyplot as plt\n",
    "\n",
    "def draw_z_score(x, cond, mu = 0, sigma =1):\n",
    "    y = stats.norm.pdf(x,mu,sigma)\n",
    "    z = x[cond]\n",
    "    plt.plot(x,y)\n",
    "    plt.fill_between(z,0,stats.norm.pdf(z,mu,sigma))\n",
    "    plt.show()\n",
    "\n",
    "x = np.arange(-3,3,0.001)\n",
    "draw_z_score(x, x>z_score)"
   ]
  },
  {
   "cell_type": "markdown",
   "id": "7a9ee220",
   "metadata": {},
   "source": [
    "#### Approximating a Binomial Probability [Example 5]\n",
    "* A study of National Football League (NFL) retiress, ages 50 and older, found that 62,4% have arthiritis.\n",
    "* You randomly select 75 NFL retirees who are at least 50 years old and ask them wheather they have arthritis\n",
    "* What is the probability that exacly 48 will say yes?"
   ]
  },
  {
   "cell_type": "markdown",
   "id": "361a6f15",
   "metadata": {},
   "source": [
    "#### Approximating a Binomial Probability [Example 5]\n",
    "* Because np = 75 x 0.624 = 46.8 and nq = 75 x 0.376 = 28.2, the binomial variable x is approximately normally distributed, with:\n",
    "    * μ = np = 46.8\n",
    "    * σ = √npq = √75 x 0.624 x 0.376 = 4.19\n",
    "* Using the continuity correcction, we can rewrite the discrete probability P(x = 48) as the continuous probability P(47.5<x<48.5)\n",
    "* The z-score that correspond to 47.5 and 48.5 are: \n",
    "    * z = (x-μ)/σ = (x-μ)/√npq = (47.5-46.8)/√75x0.624x0.376 = 0.17\n",
    "    * z = (x-μ)/σ = (x-μ)/√npq = (48.5-46.8)/√75x0.624x0.376 = 0.41\n",
    "* The probability that exacly 48 NFL retirees will say they have arthritis is:\n",
    "\n",
    "   P(47.5 < x < 48.5) = P(0.17<z<0.41)\n",
    "                      = P(z<0.41) - P(zM0.17)\n",
    "                      = 0.6591 - 0.5675\n",
    "                      = 0.0916\n",
    "        "
   ]
  },
  {
   "cell_type": "code",
   "execution_count": 3,
   "id": "68d209b4",
   "metadata": {},
   "outputs": [
    {
     "name": "stdout",
     "output_type": "stream",
     "text": [
      "np:46.8,nq:28.2\n",
      "P:0.09109195249198843\n"
     ]
    }
   ],
   "source": [
    "from scipy import stats\n",
    "import math\n",
    "n = 75\n",
    "p = 62.4/100\n",
    "q = 37.6/100\n",
    "np = n*p\n",
    "nq = n*q\n",
    "print(f'np:{np},nq:{nq}')\n",
    "\n",
    "mu = np\n",
    "sigma = math.sqrt(n*p*q)\n",
    "x1 = 47.5\n",
    "x2 = 48.5\n",
    "z1 = (x1-mu)/sigma\n",
    "z2 = (x2-mu)/sigma\n",
    "P = stats.norm.cdf(z2) - stats.norm.cdf(z1)\n",
    "print(f'P:{P}')"
   ]
  },
  {
   "cell_type": "code",
   "execution_count": 4,
   "id": "6e5c0925",
   "metadata": {},
   "outputs": [
    {
     "data": {
      "image/png": "[encoded data removed]",
      "text/plain": [
       "<Figure size 432x288 with 1 Axes>"
      ]
     },
     "metadata": {
      "needs_background": "light"
     },
     "output_type": "display_data"
    }
   ],
   "source": [
    "from scipy import stats\n",
    "import numpy as np\n",
    "import matplotlib.pyplot as plt\n",
    "\n",
    "def draw_z_score(x,cond,mu=0,sigma=1):\n",
    "    y = stats.norm.pdf(x,mu,sigma)\n",
    "    z = x[cond]\n",
    "    plt.plot(x,y)\n",
    "    plt.fill_between(z, 0, stats.norm.pdf(z,mu,sigma))\n",
    "    plt.show()\n",
    "    \n",
    "x = np.arange(-3,3,0.001)\n",
    "draw_z_score(x, (z1<x) & (x<z2))"
   ]
  },
  {
   "cell_type": "markdown",
   "id": "66a0856b",
   "metadata": {},
   "source": [
    "#### Interpretation\n",
    "The probability that exacly 48 NFL retirees will say they have arthritis is approximately 0.0916 or about 9.2%"
   ]
  },
  {
   "cell_type": "code",
   "execution_count": null,
   "id": "a054588f",
   "metadata": {},
   "outputs": [],
   "source": []
  }
 ],
 "metadata": {
  "kernelspec": {
   "display_name": "Python 3 (ipykernel)",
   "language": "python",
   "name": "python3"
  },
  "language_info": {
   "codemirror_mode": {
    "name": "ipython",
    "version": 3
   },
   "file_extension": ".py",
   "mimetype": "text/x-python",
   "name": "python",
   "nbconvert_exporter": "python",
   "pygments_lexer": "ipython3",
   "version": "3.9.7"
  }
 },
 "nbformat": 4,
 "nbformat_minor": 5
}
