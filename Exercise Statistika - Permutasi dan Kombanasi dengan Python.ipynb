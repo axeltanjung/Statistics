{
 "cells": [
  {
   "cell_type": "markdown",
   "id": "32a26a0a",
   "metadata": {},
   "source": [
    "## Import Module"
   ]
  },
  {
   "cell_type": "code",
   "execution_count": 1,
   "id": "d183a115",
   "metadata": {},
   "outputs": [],
   "source": [
    "import itertools"
   ]
  },
  {
   "cell_type": "markdown",
   "id": "5caf0c5b",
   "metadata": {},
   "source": [
    "### Permutasi Sederhana\n",
    "### nPn = n!"
   ]
  },
  {
   "cell_type": "code",
   "execution_count": 2,
   "id": "2e1d57f6",
   "metadata": {},
   "outputs": [
    {
     "name": "stdout",
     "output_type": "stream",
     "text": [
      "('A', 'B', 'C')\n",
      "('A', 'C', 'B')\n",
      "('B', 'A', 'C')\n",
      "('B', 'C', 'A')\n",
      "('C', 'A', 'B')\n",
      "('C', 'B', 'A')\n"
     ]
    }
   ],
   "source": [
    "data = ['A','B','C']\n",
    "permutasi = itertools.permutations(data)\n",
    "\n",
    "for perm in permutasi:\n",
    "    print(perm)"
   ]
  },
  {
   "cell_type": "markdown",
   "id": "bf97210c",
   "metadata": {},
   "source": [
    "### Permutasi pada sejumlah objek tertentu\n",
    "### nPr = n!/(n-r)!"
   ]
  },
  {
   "cell_type": "code",
   "execution_count": 3,
   "id": "94f83568",
   "metadata": {},
   "outputs": [],
   "source": [
    "data = ['A','B','C','D']"
   ]
  },
  {
   "cell_type": "markdown",
   "id": "922d9ccd",
   "metadata": {},
   "source": [
    "### 4P2 = 4!/(4-2)! = 12"
   ]
  },
  {
   "cell_type": "code",
   "execution_count": 4,
   "id": "fe6676ea",
   "metadata": {},
   "outputs": [
    {
     "name": "stdout",
     "output_type": "stream",
     "text": [
      "('A', 'B')\n",
      "('A', 'C')\n",
      "('A', 'D')\n",
      "('B', 'A')\n",
      "('B', 'C')\n",
      "('B', 'D')\n",
      "('C', 'A')\n",
      "('C', 'B')\n",
      "('C', 'D')\n",
      "('D', 'A')\n",
      "('D', 'B')\n",
      "('D', 'C')\n"
     ]
    }
   ],
   "source": [
    "permutasi = itertools.permutations(data,2)\n",
    "\n",
    "for perm in permutasi:\n",
    "    print(perm)"
   ]
  },
  {
   "cell_type": "markdown",
   "id": "e536f841",
   "metadata": {},
   "source": [
    "### Kalkukasi Permutasi dengan Python\n",
    "#### Kasus 1\n",
    "#### 4P2 = ?"
   ]
  },
  {
   "cell_type": "code",
   "execution_count": 6,
   "id": "268b8ae2",
   "metadata": {},
   "outputs": [
    {
     "data": {
      "text/plain": [
       "12"
      ]
     },
     "execution_count": 6,
     "metadata": {},
     "output_type": "execute_result"
    }
   ],
   "source": [
    "permutasi = itertools.permutations(range(4),2)\n",
    "len(tuple(permutasi))"
   ]
  },
  {
   "cell_type": "markdown",
   "id": "aff4ee27",
   "metadata": {},
   "source": [
    "### Kasus 2\n",
    "#### 10P4 = ?"
   ]
  },
  {
   "cell_type": "code",
   "execution_count": 8,
   "id": "bc24f0df",
   "metadata": {},
   "outputs": [
    {
     "data": {
      "text/plain": [
       "5040"
      ]
     },
     "execution_count": 8,
     "metadata": {},
     "output_type": "execute_result"
    }
   ],
   "source": [
    "permutasi = itertools.permutations(range(10),4)\n",
    "len(tuple(permutasi))"
   ]
  },
  {
   "cell_type": "markdown",
   "id": "0bf34708",
   "metadata": {},
   "source": [
    "### Kasus 3\n",
    "#### 43P3 = ?"
   ]
  },
  {
   "cell_type": "code",
   "execution_count": 10,
   "id": "f3e16b26",
   "metadata": {},
   "outputs": [
    {
     "data": {
      "text/plain": [
       "74046"
      ]
     },
     "execution_count": 10,
     "metadata": {},
     "output_type": "execute_result"
    }
   ],
   "source": [
    "permutasi = itertools.permutations(range(43),3)\n",
    "len(tuple(permutasi))"
   ]
  },
  {
   "cell_type": "markdown",
   "id": "c1044a99",
   "metadata": {},
   "source": [
    "### Kombinasi Sederhana"
   ]
  },
  {
   "cell_type": "markdown",
   "id": "3782670b",
   "metadata": {},
   "source": [
    "### n C r = n! / (n-r)! r!"
   ]
  },
  {
   "cell_type": "code",
   "execution_count": 11,
   "id": "41ea4d76",
   "metadata": {},
   "outputs": [],
   "source": [
    "data = ['A','B','C','D','E']"
   ]
  },
  {
   "cell_type": "markdown",
   "id": "620e2ead",
   "metadata": {},
   "source": [
    "#### 5C3 = 5! / (5-3)! 3!"
   ]
  },
  {
   "cell_type": "code",
   "execution_count": 13,
   "id": "ec5d9996",
   "metadata": {},
   "outputs": [
    {
     "name": "stdout",
     "output_type": "stream",
     "text": [
      "('A', 'B', 'C')\n",
      "('A', 'B', 'D')\n",
      "('A', 'B', 'E')\n",
      "('A', 'C', 'D')\n",
      "('A', 'C', 'E')\n",
      "('A', 'D', 'E')\n",
      "('B', 'C', 'D')\n",
      "('B', 'C', 'E')\n",
      "('B', 'D', 'E')\n",
      "('C', 'D', 'E')\n"
     ]
    }
   ],
   "source": [
    "kombinasi = itertools.combinations(data,3)\n",
    "\n",
    "for comb in kombinasi:\n",
    "    print(comb)"
   ]
  },
  {
   "cell_type": "markdown",
   "id": "b4dbb5ae",
   "metadata": {},
   "source": [
    "### Kalkulasi Kombinasi dengan Python"
   ]
  },
  {
   "cell_type": "markdown",
   "id": "9e5ed04a",
   "metadata": {},
   "source": [
    "Kasus 1 - \n",
    "5C3 = ?"
   ]
  },
  {
   "cell_type": "code",
   "execution_count": 14,
   "id": "a1bac325",
   "metadata": {},
   "outputs": [
    {
     "data": {
      "text/plain": [
       "10"
      ]
     },
     "execution_count": 14,
     "metadata": {},
     "output_type": "execute_result"
    }
   ],
   "source": [
    "kombinasi = itertools.combinations(range(5),3)\n",
    "len(tuple(kombinasi))"
   ]
  },
  {
   "cell_type": "markdown",
   "id": "5f4656aa",
   "metadata": {},
   "source": [
    "Kasus 2 - \n",
    "16C4 = ?"
   ]
  },
  {
   "cell_type": "code",
   "execution_count": 15,
   "id": "4f167b1f",
   "metadata": {},
   "outputs": [
    {
     "data": {
      "text/plain": [
       "1820"
      ]
     },
     "execution_count": 15,
     "metadata": {},
     "output_type": "execute_result"
    }
   ],
   "source": [
    "kombinasi = itertools.combinations(range(16),4)\n",
    "len(tuple(kombinasi))"
   ]
  },
  {
   "cell_type": "code",
   "execution_count": null,
   "id": "5cb6a6d4",
   "metadata": {},
   "outputs": [],
   "source": []
  }
 ],
 "metadata": {
  "kernelspec": {
   "display_name": "Python 3 (ipykernel)",
   "language": "python",
   "name": "python3"
  },
  "language_info": {
   "codemirror_mode": {
    "name": "ipython",
    "version": 3
   },
   "file_extension": ".py",
   "mimetype": "text/x-python",
   "name": "python",
   "nbconvert_exporter": "python",
   "pygments_lexer": "ipython3",
   "version": "3.9.7"
  }
 },
 "nbformat": 4,
 "nbformat_minor": 5
}
